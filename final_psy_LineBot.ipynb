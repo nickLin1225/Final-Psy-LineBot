{
  "cells": [
    {
      "cell_type": "markdown",
      "metadata": {
        "id": "view-in-github",
        "colab_type": "text"
      },
      "source": [
        "<a href=\"https://colab.research.google.com/github/nickLin1225/Final-Psy-LineBot/blob/main/final_psy_LineBot.ipynb\" target=\"_parent\"><img src=\"https://colab.research.google.com/assets/colab-badge.svg\" alt=\"Open In Colab\"/></a>"
      ]
    },
    {
      "cell_type": "code",
      "execution_count": null,
      "metadata": {
        "colab": {
          "base_uri": "https://localhost:8080/"
        },
        "id": "9ZCXr2K0xKFH",
        "outputId": "a349fa94-12cc-4edd-f662-573437fe74f1"
      },
      "outputs": [
        {
          "output_type": "stream",
          "name": "stdout",
          "text": [
            "Mounted at /content/drive\n"
          ]
        }
      ],
      "source": [
        "from google.colab import drive\n",
        "drive.mount('/content/drive')"
      ]
    },
    {
      "cell_type": "code",
      "execution_count": null,
      "metadata": {
        "id": "ghRhh3d8xVF0"
      },
      "outputs": [],
      "source": [
        "!pip install line-bot-sdk flask\n",
        "!pip install pyngrok\n",
        "!ngrok authtoken 填token\n",
        "!git clone https://github.com/THUDM/ChatGLM2-6B"
      ]
    },
    {
      "cell_type": "code",
      "source": [
        "# 添加peft、opencc\n",
        "!pip install -r /content/ChatGLM2-6B/requirements.txt"
      ],
      "metadata": {
        "id": "ncmG3B_9DtT6"
      },
      "execution_count": null,
      "outputs": []
    },
    {
      "cell_type": "code",
      "source": [
        "# 從本地上傳微調壓縮檔並執行解壓縮\n",
        "!unzip chatGLM2_6B_QLoRA_t16_v5-20230729T023644Z-001.zip"
      ],
      "metadata": {
        "id": "8uxSxLS2D1ll"
      },
      "execution_count": null,
      "outputs": []
    },
    {
      "cell_type": "code",
      "source": [
        "# 建置模型\n",
        "from transformers import AutoTokenizer, AutoModel, BitsAndBytesConfig\n",
        "from peft import PeftModel, PeftConfig\n",
        "import torch\n",
        "base_model_path = \"THUDM/chatglm2-6b\"\n",
        "peft_model_path = \"/content/chatGLM2_6B_QLoRA_t16_v5/checkpoint-1700\"\n",
        "\n",
        "config = PeftConfig.from_pretrained(peft_model_path)\n",
        "\n",
        "\n",
        "tokenizer = AutoTokenizer.from_pretrained(base_model_path, trust_remote_code=True)\n",
        "base_model = AutoModel.from_pretrained(base_model_path,\n",
        "                      trust_remote_code=True,\n",
        "                      device='cuda')\n",
        "\n",
        "model = PeftModel.from_pretrained(base_model, peft_model_path)"
      ],
      "metadata": {
        "id": "VSMu16LmD6DM"
      },
      "execution_count": null,
      "outputs": []
    },
    {
      "cell_type": "code",
      "execution_count": null,
      "metadata": {
        "id": "e0vBOOJICnlv"
      },
      "outputs": [],
      "source": [
        "from flask import Flask, request, abort\n",
        "from linebot.models.events import FollowEvent\n",
        "from linebot import LineBotApi, WebhookHandler\n",
        "from linebot.exceptions import InvalidSignatureError, LineBotApiError\n",
        "from linebot.models import *\n",
        "import requests\n",
        "from pyngrok import ngrok\n",
        "import json\n",
        "import opencc\n",
        "import csv\n",
        "\n",
        "# 建置主程序\n",
        "app = Flask(__name__)\n",
        "# Channel access token\n",
        "line_bot_api = LineBotApi(\"Channel access token\")\n",
        "# Channel secret\n",
        "handler = WebhookHandler(\"Channel secret\")\n",
        "\n",
        "\n",
        "# 啟動server對外接口，使line能夠丟消息進來\n",
        "@app.route(\"/\", methods=['POST'])\n",
        "def callback():\n",
        "    signature = request.headers['X-Line-Signature']\n",
        "    body = request.get_data(as_text=True)\n",
        "    try:\n",
        "        handler.handle(body, signature)\n",
        "    except InvalidSignatureError:\n",
        "        abort(400)\n",
        "\n",
        "    return 'OK'"
      ]
    },
    {
      "cell_type": "code",
      "source": [
        "'''\n",
        "回應用戶，歡迎用的文字消息\n",
        "\n",
        "'''\n",
        "\n",
        "@handler.add(FollowEvent)\n",
        "def reply_text_and_get_user_profile(event):\n",
        "    line_bot_api.reply_message(\n",
        "        event.reply_token,\n",
        "        [TextSendMessage('哈囉，歡迎來到心理聊天室，有什麼問題都可以跟我說呦！')]\n",
        "    )"
      ],
      "metadata": {
        "id": "WUYGLz9Vuo5T"
      },
      "execution_count": null,
      "outputs": []
    },
    {
      "cell_type": "code",
      "source": [
        "'''\n",
        "爬取心理文章，以多頁訊息方式呈現\n",
        "執行ChatGLM模型\n",
        "'''\n",
        "from bs4 import BeautifulSoup\n",
        "import random\n",
        "\n",
        "# 要爬取的網頁 URL\n",
        "url = \"https://www.iiispace.com/blog/\"\n",
        "\n",
        "# 發送 HTTP GET 請求並獲取網頁內容\n",
        "response = requests.get(url)\n",
        "html_content = response.text\n",
        "\n",
        "# 使用 BeautifulSoup 解析 HTML 內容\n",
        "soup = BeautifulSoup(html_content, \"html.parser\")\n",
        "\n",
        "# 找到所有文章標題和連結\n",
        "articles = soup.find_all(\"h2\")\n",
        "data = []\n",
        "\n",
        "# 爬取20篇文章資訊\n",
        "for article in articles[:20]:\n",
        "    title = article.a.text\n",
        "    link = article.a[\"href\"]\n",
        "    article_response = requests.get(link)\n",
        "    article_html = article_response.text\n",
        "    article_soup = BeautifulSoup(article_html, \"html.parser\")\n",
        "    image = article_soup.find(\"img\", class_=\"enigma_img_responsive wp-post-image\")\n",
        "    image_url = image[\"src\"] if image else \"沒有圖片\"\n",
        "    data.append((title, link, image_url))\n",
        "\n",
        "# 隨機選取 5 筆文章\n",
        "random_sample = random.sample(data, 5)\n",
        "carousel_columns = []\n",
        "\n",
        "# 建立 CarouselColumns\n",
        "for title, link, image_url in random_sample:\n",
        "    carousel_column = CarouselColumn(\n",
        "        thumbnail_image_url=image_url,\n",
        "        title=\"近期的心理文章\",\n",
        "        text=title,\n",
        "        actions=[\n",
        "            URIAction(label=\"詳細內容\", uri=link)\n",
        "        ]\n",
        "    )\n",
        "    carousel_columns.append(carousel_column)\n",
        "\n",
        "carousel_template = CarouselTemplate(columns=carousel_columns)\n",
        "\n",
        "# 判斷message是\"近期的心理文章\"或是\"清空對話紀錄\",執行相對應的函式，都不是的話執行chat_with_llm函式\n",
        "@handler.add(MessageEvent, message=TextMessage)\n",
        "def handle_message(event):\n",
        "    reply_token = event.reply_token\n",
        "    if event.message.text == '近期的心理文章':\n",
        "        get_psy_info(event)\n",
        "    elif event.message.text == '清空對話紀錄':\n",
        "        clear_chat_history(event)\n",
        "    else:\n",
        "        response = chat_with_llm(event.source.user_id, event.message.text)\n",
        "        line_bot_api.reply_message(event.reply_token, messages=[TextSendMessage(response)])\n",
        "\n",
        "# 近期的心理文章，多頁訊息方式呈現\n",
        "def get_psy_info(event):\n",
        "    random_sample = random.sample(data, 5)\n",
        "    carousel_columns = []\n",
        "\n",
        "    for title, link, image_url in random_sample:\n",
        "        carousel_column = CarouselColumn(\n",
        "            thumbnail_image_url=image_url,\n",
        "            title=\"近期的心理文章\",\n",
        "            text=title,\n",
        "            actions=[\n",
        "                URIAction(label=\"詳細內容\", uri=link)\n",
        "            ]\n",
        "        )\n",
        "        carousel_columns.append(carousel_column)\n",
        "\n",
        "    carousel_template = CarouselTemplate(columns=carousel_columns)\n",
        "\n",
        "    line_bot_api.reply_message(\n",
        "        event.reply_token,\n",
        "        TemplateSendMessage(alt_text=\"心理相關諮訊\", template=carousel_template)\n",
        "    )\n",
        "\n",
        "# 清空對話紀錄\n",
        "def clear_chat_history(event):\n",
        "\n",
        "    # 在這個函式中，加入清空對話紀錄的程式碼\n",
        "\n",
        "    line_bot_api.reply_message(\n",
        "        event.reply_token,\n",
        "        TextSendMessage(\"對話紀錄已清空\")\n",
        "    )\n",
        "\n",
        "def chat_with_llm(user_id, input_text):\n",
        "    user_profile = line_bot_api.get_profile(user_id)\n",
        "    prmpts = \"请假装你是一名专业的心理咨商师，根据下列发问者所提供之问题描述一步步进行思考，并以第一人称口吻给出答复。\\n问题描述：\"\n",
        "\n",
        "    cc = opencc.OpenCC('tw2s')\n",
        "    converted_input = cc.convert(input_text)\n",
        "\n",
        "    cc = opencc.OpenCC('s2tw')\n",
        "    response, history = model.chat(tokenizer, prmpts + converted_input, history=[], repetition_penalty=1.2)\n",
        "    response = '\\n'.join(response.replace(\". \", \".\").split()).replace(\",\", \"，\").replace(\".\", \". \")\n",
        "    converted_response = cc.convert(response)\n",
        "    field_names = [\"user_id\", \"display_name\", \"picture_url\", \"input_text\", \"response\"]\n",
        "\n",
        "    # 將用戶資料以及聊天紀錄存至users.csv\n",
        "    with open(\"/content/drive/MyDrive/users.csv\", \"a\", newline=\"\", encoding=\"utf-8\") as csvfile:\n",
        "        writer = csv.DictWriter(csvfile, fieldnames=field_names)\n",
        "\n",
        "        if csvfile.tell() == 0:\n",
        "            writer.writeheader()\n",
        "\n",
        "        writer.writerow({\n",
        "            \"user_id\": user_profile.user_id,\n",
        "            \"display_name\": user_profile.display_name,\n",
        "            \"picture_url\": user_profile.picture_url,\n",
        "            \"input_text\": input_text,\n",
        "            \"response\": converted_response\n",
        "        })\n",
        "    return converted_response"
      ],
      "metadata": {
        "id": "uY6SKrCRi9-P"
      },
      "execution_count": null,
      "outputs": []
    },
    {
      "cell_type": "code",
      "source": [
        "\"\"\"\n",
        "創建 Rich Menu圖文選單\n",
        "\"\"\"\n",
        "\n",
        "rich_menu_to_create = RichMenu(\n",
        "    size=RichMenuSize(width=2500, height=843),\n",
        "    selected=True,\n",
        "    name=\"My Rich Menu\",\n",
        "    chat_bar_text=\"查看更多資訊\",\n",
        "    areas=[\n",
        "        RichMenuArea(\n",
        "            bounds=RichMenuBounds(x=0, y=0, width=833, height=843),\n",
        "            action=URIAction(label='Button 1', uri='https://forms.gle/7jbBMRh1CaphF8hv7')\n",
        "        ),\n",
        "        RichMenuArea(\n",
        "            bounds=RichMenuBounds(x=833, y=0, width=833, height=843),\n",
        "            action=MessageAction(label='Button 2', text='清空對話紀錄')\n",
        "        ),\n",
        "        RichMenuArea(\n",
        "            bounds=RichMenuBounds(x=1666, y=0, width=833, height=843),\n",
        "            action=MessageAction(label='Button 3', text='近期的心理文章')\n",
        "        )\n",
        "    ]\n",
        ")\n",
        "\n",
        "# 上傳 Rich Menu\n",
        "try:\n",
        "    rich_menu_id = line_bot_api.create_rich_menu(rich_menu=rich_menu_to_create)\n",
        "    print(\"Rich Menu created. ID:\", rich_menu_id)\n",
        "except LineBotApiError as e:\n",
        "    print(\"Failed to create Rich Menu:\", e)\n",
        "\n",
        "# 上傳 Rich Menu 的圖片\n",
        "image_url = 'https://i.imgur.com/eHvGozp.jpg'\n",
        "image_content = requests.get(image_url).content\n",
        "line_bot_api.set_rich_menu_image(rich_menu_id, 'image/png', image_content)\n",
        "\n",
        "# 設定預設 Rich Menu\n",
        "line_bot_api.set_default_rich_menu(rich_menu_id)\n",
        "\n",
        "# 獲取現有的 Rich Menu 列表\n",
        "# rich_menu_list = line_bot_api.get_rich_menu_list()\n",
        "\n",
        "# 刪除現有的 Rich Menu\n",
        "# for rich_menu in rich_menu_list:\n",
        "#     line_bot_api.delete_rich_menu(rich_menu.rich_menu_id)"
      ],
      "metadata": {
        "id": "FQR18Vzovadc"
      },
      "execution_count": null,
      "outputs": []
    },
    {
      "cell_type": "code",
      "execution_count": null,
      "metadata": {
        "id": "UIzt2NElyQZL"
      },
      "outputs": [],
      "source": [
        "# 主程序運行\n",
        "port = 5000\n",
        "# Open a ngrok tunnel to the HTTP server\n",
        "public_url = ngrok.connect(port).public_url\n",
        "print(\" * ngrok tunnel \\\"{}\\\" -> \\\"http://127.0.0.1:{}\\\"\".format(public_url, port))\n",
        "app.run()"
      ]
    }
  ],
  "metadata": {
    "colab": {
      "provenance": [],
      "authorship_tag": "ABX9TyMIlNwam5D2AXxeucHYl/eC",
      "include_colab_link": true
    },
    "kernelspec": {
      "display_name": "Python 3",
      "name": "python3"
    },
    "language_info": {
      "name": "python"
    }
  },
  "nbformat": 4,
  "nbformat_minor": 0
}