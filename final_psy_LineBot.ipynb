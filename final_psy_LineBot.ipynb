{
  "cells": [
    {
      "cell_type": "markdown",
      "metadata": {
        "id": "view-in-github",
        "colab_type": "text"
      },
      "source": [
        "<a href=\"https://colab.research.google.com/github/nickLin1225/Final-Psy-LineBot/blob/main/final_psy_LineBot.ipynb\" target=\"_parent\"><img src=\"https://colab.research.google.com/assets/colab-badge.svg\" alt=\"Open In Colab\"/></a>"
      ]
    },
    {
      "cell_type": "code",
      "execution_count": null,
      "metadata": {
        "colab": {
          "base_uri": "https://localhost:8080/"
        },
        "id": "9ZCXr2K0xKFH",
        "outputId": "cafbd075-4b14-4639-d26b-02be06253ee4"
      },
      "outputs": [
        {
          "output_type": "stream",
          "name": "stdout",
          "text": [
            "Mounted at /content/drive\n"
          ]
        }
      ],
      "source": [
        "from google.colab import drive\n",
        "drive.mount('/content/drive')"
      ]
    },
    {
      "cell_type": "code",
      "execution_count": null,
      "metadata": {
        "id": "ghRhh3d8xVF0"
      },
      "outputs": [],
      "source": [
        "!pip install line-bot-sdk flask\n",
        "!pip install pyngrok\n",
        "!ngrok authtoken 2QrnEFtjjMkbdQs609UXhiHh7JP_41yYQ94u84CsaxFZoiaJ5\n",
        "!git clone https://github.com/THUDM/ChatGLM2-6B"
      ]
    },
    {
      "cell_type": "code",
      "source": [
        "# 添加peft、opencc\n",
        "!pip install -r /content/ChatGLM2-6B/requirements.txt"
      ],
      "metadata": {
        "id": "ncmG3B_9DtT6"
      },
      "execution_count": null,
      "outputs": []
    },
    {
      "cell_type": "code",
      "source": [
        "!unzip chatGLM2_6B_QLoRA_t16_v5-20230729T023644Z-001.zip"
      ],
      "metadata": {
        "id": "8uxSxLS2D1ll"
      },
      "execution_count": null,
      "outputs": []
    },
    {
      "cell_type": "code",
      "source": [
        "from transformers import AutoTokenizer, AutoModel, BitsAndBytesConfig\n",
        "from peft import PeftModel, PeftConfig\n",
        "import torch\n",
        "base_model_path = \"THUDM/chatglm2-6b\"\n",
        "peft_model_path = \"/content/chatGLM2_6B_QLoRA_t16_v5/checkpoint-1700\"\n",
        "\n",
        "config = PeftConfig.from_pretrained(peft_model_path)\n",
        "\n",
        "\n",
        "tokenizer = AutoTokenizer.from_pretrained(base_model_path, trust_remote_code=True)\n",
        "base_model = AutoModel.from_pretrained(base_model_path,\n",
        "                      trust_remote_code=True,\n",
        "                      device='cuda')\n",
        "\n",
        "model = PeftModel.from_pretrained(base_model, peft_model_path)"
      ],
      "metadata": {
        "id": "VSMu16LmD6DM"
      },
      "execution_count": null,
      "outputs": []
    },
    {
      "cell_type": "code",
      "source": [
        "!pip install opencc"
      ],
      "metadata": {
        "id": "uOO4yBvTPIgw",
        "colab": {
          "base_uri": "https://localhost:8080/"
        },
        "outputId": "c363138b-368f-4a69-e8b0-50e8bf4d37cb"
      },
      "execution_count": 3,
      "outputs": [
        {
          "output_type": "stream",
          "name": "stdout",
          "text": [
            "Collecting opencc\n",
            "  Downloading OpenCC-1.1.6-cp310-cp310-manylinux1_x86_64.whl (778 kB)\n",
            "\u001b[?25l     \u001b[90m━━━━━━━━━━━━━━━━━━━━━━━━━━━━━━━━━━━━━━━━\u001b[0m \u001b[32m0.0/778.3 kB\u001b[0m \u001b[31m?\u001b[0m eta \u001b[36m-:--:--\u001b[0m\r\u001b[2K     \u001b[91m━━━━\u001b[0m\u001b[90m╺\u001b[0m\u001b[90m━━━━━━━━━━━━━━━━━━━━━━━━━━━━━━━━━━━\u001b[0m \u001b[32m81.9/778.3 kB\u001b[0m \u001b[31m2.2 MB/s\u001b[0m eta \u001b[36m0:00:01\u001b[0m\r\u001b[2K     \u001b[91m━━━━━━━━━━━━━━━━━━━\u001b[0m\u001b[90m╺\u001b[0m\u001b[90m━━━━━━━━━━━━━━━━━━━\u001b[0m \u001b[32m389.1/778.3 kB\u001b[0m \u001b[31m5.5 MB/s\u001b[0m eta \u001b[36m0:00:01\u001b[0m\r\u001b[2K     \u001b[91m━━━━━━━━━━━━━━━━━━━━━━━━━━━━━━━━━━━\u001b[0m\u001b[90m╺\u001b[0m\u001b[90m━━━\u001b[0m \u001b[32m706.6/778.3 kB\u001b[0m \u001b[31m6.6 MB/s\u001b[0m eta \u001b[36m0:00:01\u001b[0m\r\u001b[2K     \u001b[90m━━━━━━━━━━━━━━━━━━━━━━━━━━━━━━━━━━━━━━━\u001b[0m \u001b[32m778.3/778.3 kB\u001b[0m \u001b[31m6.2 MB/s\u001b[0m eta \u001b[36m0:00:00\u001b[0m\n",
            "\u001b[?25hInstalling collected packages: opencc\n",
            "Successfully installed opencc-1.1.6\n"
          ]
        }
      ]
    },
    {
      "cell_type": "code",
      "execution_count": 4,
      "metadata": {
        "id": "e0vBOOJICnlv",
        "colab": {
          "base_uri": "https://localhost:8080/"
        },
        "outputId": "10fd8b46-3193-480f-f28e-40ce404f998e"
      },
      "outputs": [
        {
          "output_type": "stream",
          "name": "stderr",
          "text": [
            "<ipython-input-4-1514612bc7b9>:15: LineBotSdkDeprecatedIn30: Call to deprecated class LineBotApi. (Use v3 class; linebot.v3.<feature>. See https://github.com/line/line-bot-sdk-python/blob/master/README.rst for more details.) -- Deprecated since version 3.0.0.\n",
            "  line_bot_api = LineBotApi(\"lDOvYWU5DjtPpSVFrNKfNAejGKKSZvKYvhVMBR1ND1zmh8Got+JtoF4EgpWRconwzhxkKWWpwbIsby4+vLETeg+dMhUU8M6mL+7dmNFnHl1QbtdT66wv3gIlj90GKuECO7r/q/wVPkkNnCGtnsfRKAdB04t89/1O/w1cDnyilFU=\")\n",
            "<ipython-input-4-1514612bc7b9>:17: LineBotSdkDeprecatedIn30: Call to deprecated class WebhookHandler. (Use 'from linebot.v3.webhook import WebhookHandler' instead. See https://github.com/line/line-bot-sdk-python/blob/master/README.rst for more details.) -- Deprecated since version 3.0.0.\n",
            "  handler = WebhookHandler(\"f8f7fe98ab2ebbf5c4af4ace91a7b7f1\")\n"
          ]
        }
      ],
      "source": [
        "from flask import Flask, request, abort\n",
        "from linebot.models.events import FollowEvent\n",
        "from linebot import LineBotApi, WebhookHandler\n",
        "from linebot.exceptions import InvalidSignatureError\n",
        "from linebot.models import *\n",
        "import requests\n",
        "from pyngrok import ngrok\n",
        "import json\n",
        "import opencc\n",
        "import csv\n",
        "\n",
        "# 建置主程序\n",
        "app = Flask(__name__)\n",
        "# Channel access token\n",
        "line_bot_api = LineBotApi(\"lDOvYWU5DjtPpSVFrNKfNAejGKKSZvKYvhVMBR1ND1zmh8Got+JtoF4EgpWRconwzhxkKWWpwbIsby4+vLETeg+dMhUU8M6mL+7dmNFnHl1QbtdT66wv3gIlj90GKuECO7r/q/wVPkkNnCGtnsfRKAdB04t89/1O/w1cDnyilFU=\")\n",
        "# Channel secret\n",
        "handler = WebhookHandler(\"f8f7fe98ab2ebbf5c4af4ace91a7b7f1\")\n",
        "\n",
        "\n",
        "# 啟動server對外接口，使line能夠丟消息進來\n",
        "@app.route(\"/\", methods=['POST'])\n",
        "def callback():\n",
        "    signature = request.headers['X-Line-Signature']\n",
        "    body = request.get_data(as_text=True)\n",
        "    try:\n",
        "        handler.handle(body, signature)\n",
        "    except InvalidSignatureError:\n",
        "        abort(400)\n",
        "\n",
        "    return 'OK'"
      ]
    },
    {
      "cell_type": "code",
      "source": [
        "'''\n",
        "回應用戶，歡迎用的文字消息\n",
        "\n",
        "'''\n",
        "\n",
        "@handler.add(FollowEvent)\n",
        "def reply_text_and_get_user_profile(event):\n",
        "    line_bot_api.reply_message(\n",
        "        event.reply_token,\n",
        "        [TextSendMessage('哈囉，歡迎來到心理聊天室，有什麼問題都可以跟我說呦！')]\n",
        "    )"
      ],
      "metadata": {
        "id": "WUYGLz9Vuo5T"
      },
      "execution_count": null,
      "outputs": []
    },
    {
      "cell_type": "code",
      "source": [
        "'''\n",
        "爬取心理文章\n",
        "\n",
        "'''\n",
        "\n",
        "import requests\n",
        "from bs4 import BeautifulSoup\n",
        "import csv\n",
        "import random\n",
        "\n",
        "# 要爬取的網頁 URL\n",
        "url = \"https://www.iiispace.com/blog/\"\n",
        "\n",
        "# 發送 HTTP GET 請求並獲取網頁內容\n",
        "response = requests.get(url)\n",
        "html_content = response.text\n",
        "\n",
        "# 使用 BeautifulSoup 解析 HTML 內容\n",
        "soup = BeautifulSoup(html_content, \"html.parser\")\n",
        "\n",
        "# 找到所有文章標題和連結\n",
        "articles = soup.find_all(\"h2\")\n",
        "data = []\n",
        "\n",
        "# 爬取文章資訊\n",
        "for article in articles[:20]:\n",
        "    title = article.a.text\n",
        "    link = article.a[\"href\"]\n",
        "    article_response = requests.get(link)\n",
        "    article_html = article_response.text\n",
        "    article_soup = BeautifulSoup(article_html, \"html.parser\")\n",
        "    image = article_soup.find(\"img\", class_=\"enigma_img_responsive wp-post-image\")\n",
        "    image_url = image[\"src\"] if image else \"沒有圖片\"\n",
        "    data.append((title, link, image_url))\n",
        "\n",
        "# 隨機選取 5 筆文章\n",
        "random_sample = random.sample(data, 5)\n",
        "carousel_columns = []\n",
        "\n",
        "# 建立 CarouselColumns\n",
        "for title, link, image_url in random_sample:\n",
        "    carousel_column = CarouselColumn(\n",
        "        thumbnail_image_url=image_url,\n",
        "        title=\"近期的心理文章\",\n",
        "        text=title,\n",
        "        actions=[\n",
        "            URIAction(label=\"詳細內容\", uri=link)\n",
        "        ]\n",
        "    )\n",
        "    carousel_columns.append(carousel_column)\n",
        "\n",
        "carousel_template = CarouselTemplate(columns=carousel_columns)\n",
        "\n",
        "# Message event\n",
        "@handler.add(MessageEvent)\n",
        "def handle_message(event):\n",
        "    reply_token = event.reply_token\n",
        "    if event.message.text == '近期的心理文章':\n",
        "        get_psy_info(event)\n",
        "    else:\n",
        "        line_bot_api.reply_message(reply_token, TextSendMessage(\"請重新輸入\"))\n",
        "\n",
        "# 回覆 Carousel Template 訊息\n",
        "def get_psy_info(event):\n",
        "    random_sample = random.sample(data, 5)\n",
        "    carousel_columns = []\n",
        "\n",
        "    for title, link, image_url in random_sample:\n",
        "        carousel_column = CarouselColumn(\n",
        "            thumbnail_image_url=image_url,\n",
        "            title=\"近期的心理文章\",\n",
        "            text=title,\n",
        "            actions=[\n",
        "                URIAction(label=\"詳細內容\", uri=link)\n",
        "            ]\n",
        "        )\n",
        "        carousel_columns.append(carousel_column)\n",
        "\n",
        "    carousel_template = CarouselTemplate(columns=carousel_columns)\n",
        "\n",
        "    line_bot_api.reply_message(\n",
        "        event.reply_token,\n",
        "        TemplateSendMessage(alt_text=\"心理相關諮訊\", template=carousel_template)\n",
        "    )"
      ],
      "metadata": {
        "id": "uY6SKrCRi9-P"
      },
      "execution_count": null,
      "outputs": []
    },
    {
      "cell_type": "code",
      "source": [
        "from linebot.exceptions import LineBotApiError\n",
        "\n",
        "# 創建 Rich Menu\n",
        "rich_menu_to_create = RichMenu(\n",
        "    size=RichMenuSize(width=2500, height=843),\n",
        "    selected=True,\n",
        "    name=\"My Rich Menu\",\n",
        "    chat_bar_text=\"查看更多資訊\",\n",
        "    areas=[\n",
        "        RichMenuArea(\n",
        "            bounds=RichMenuBounds(x=0, y=0, width=833, height=843),\n",
        "            action=URIAction(label='Button 1', uri='https://forms.gle/7jbBMRh1CaphF8hv7')\n",
        "        ),\n",
        "        RichMenuArea(\n",
        "            bounds=RichMenuBounds(x=833, y=0, width=833, height=843),\n",
        "            action=URIAction(label='Button 2', uri='https://www.iiispace.com/blog/')\n",
        "        ),\n",
        "        RichMenuArea(\n",
        "            bounds=RichMenuBounds(x=1666, y=0, width=833, height=843),\n",
        "            action=MessageAction(label='Button 3', text='近期的心理文章')\n",
        "        )\n",
        "    ]\n",
        ")\n",
        "\n",
        "# 上傳 Rich Menu\n",
        "try:\n",
        "    rich_menu_id = line_bot_api.create_rich_menu(rich_menu=rich_menu_to_create)\n",
        "    print(\"Rich Menu created. ID:\", rich_menu_id)\n",
        "except LineBotApiError as e:\n",
        "    print(\"Failed to create Rich Menu:\", e)\n",
        "\n",
        "# 上傳 Rich Menu 的圖片\n",
        "image_url = 'https://i.imgur.com/eHvGozp.jpg'\n",
        "image_content = requests.get(image_url).content\n",
        "line_bot_api.set_rich_menu_image(rich_menu_id, 'image/png', image_content)\n",
        "\n",
        "# 設定預設 Rich Menu\n",
        "line_bot_api.set_default_rich_menu(rich_menu_id)\n",
        "\n",
        "# 獲取現有的 Rich Menu 列表\n",
        "# rich_menu_list = line_bot_api.get_rich_menu_list()\n",
        "\n",
        "# 刪除現有的 Rich Menu\n",
        "# for rich_menu in rich_menu_list:\n",
        "#     line_bot_api.delete_rich_menu(rich_menu.rich_menu_id)"
      ],
      "metadata": {
        "colab": {
          "base_uri": "https://localhost:8080/"
        },
        "id": "FQR18Vzovadc",
        "outputId": "87e01615-cd95-46e9-ba2f-e0c316c9f449"
      },
      "execution_count": 9,
      "outputs": [
        {
          "output_type": "stream",
          "name": "stderr",
          "text": [
            "<ipython-input-9-00df1af999a2>:27: LineBotSdkDeprecatedIn30: Call to deprecated method create_rich_menu. (Use 'from linebot.v3.messaging import MessagingApi' and 'MessagingApi(...).create_rich_menu(...)' instead. See https://github.com/line/line-bot-sdk-python/blob/master/README.rst for more details.) -- Deprecated since version 3.0.0.\n",
            "  rich_menu_id = line_bot_api.create_rich_menu(rich_menu=rich_menu_to_create)\n"
          ]
        },
        {
          "output_type": "stream",
          "name": "stdout",
          "text": [
            "Rich Menu created. ID: richmenu-7c5fb911244c8fe06d143db2120ce068\n"
          ]
        },
        {
          "output_type": "stream",
          "name": "stderr",
          "text": [
            "<ipython-input-9-00df1af999a2>:35: LineBotSdkDeprecatedIn30: Call to deprecated method set_rich_menu_image. (Use 'from linebot.v3.messaging import MessagingApiBlob' and 'MessagingApiBlob.set_rich_menu_image(...)' instead. See https://github.com/line/line-bot-sdk-python/blob/master/README.rst for more details.) -- Deprecated since version 3.0.0.\n",
            "  line_bot_api.set_rich_menu_image(rich_menu_id, 'image/png', image_content)\n",
            "<ipython-input-9-00df1af999a2>:38: LineBotSdkDeprecatedIn30: Call to deprecated method set_default_rich_menu. (Use 'from linebot.v3.messaging import MessagingApi' and 'MessagingApi(...).set_default_rich_menu(...)' instead. See https://github.com/line/line-bot-sdk-python/blob/master/README.rst for more details.) -- Deprecated since version 3.0.0.\n",
            "  line_bot_api.set_default_rich_menu(rich_menu_id)\n"
          ]
        }
      ]
    },
    {
      "cell_type": "code",
      "source": [
        "@handler.add(MessageEvent, message=TextMessage)\n",
        "def handle_line_text(event):\n",
        "    response = chat_with_llm(event.source.user_id, event.message.text)\n",
        "    line_bot_api.reply_message(event.reply_token, messages=[TextSendMessage(response)])\n",
        "\n",
        "def chat_with_llm(user_id, input_text):\n",
        "    user_profile = line_bot_api.get_profile(user_id)\n",
        "    prmpts = \"请假装你是一名专业的心理咨商师，根据下列发问者所提供之问题描述一步步进行思考，并以第一人称口吻给出答复。\\n问题描述：\"\n",
        "\n",
        "    cc = opencc.OpenCC('tw2s')\n",
        "    converted_input = cc.convert(input_text)\n",
        "\n",
        "    cc = opencc.OpenCC('s2tw')\n",
        "    response, history = model.chat(tokenizer, prmpts + converted_input, history=[], repetition_penalty=1.2)\n",
        "    response = '\\n'.join(response.replace(\". \", \".\").split()).replace(\",\", \"，\").replace(\".\", \". \")\n",
        "    converted_response = cc.convert(response)\n",
        "    field_names = [\"user_id\", \"display_name\", \"picture_url\", \"input_text\", \"response\"]\n",
        "\n",
        "    # 將用戶資料以及聊天紀錄存至users.csv\n",
        "    with open(\"/content/drive/MyDrive/users.csv\", \"a\", newline=\"\", encoding=\"utf-8\") as csvfile:\n",
        "        writer = csv.DictWriter(csvfile, fieldnames=field_names)\n",
        "\n",
        "        if csvfile.tell() == 0:\n",
        "            writer.writeheader()\n",
        "\n",
        "        writer.writerow({\n",
        "            \"user_id\": user_profile.user_id,\n",
        "            \"display_name\": user_profile.display_name,\n",
        "            \"picture_url\": user_profile.picture_url,\n",
        "            \"input_text\": input_text,\n",
        "            \"response\": converted_response\n",
        "        })\n",
        "    return converted_response"
      ],
      "metadata": {
        "id": "6Je_4wuNHQNw"
      },
      "execution_count": null,
      "outputs": []
    },
    {
      "cell_type": "code",
      "execution_count": null,
      "metadata": {
        "id": "UIzt2NElyQZL",
        "colab": {
          "base_uri": "https://localhost:8080/"
        },
        "outputId": "43f3364b-fbec-4a94-97e5-9bd2d203614f"
      },
      "outputs": [
        {
          "output_type": "stream",
          "name": "stderr",
          "text": [
            "WARNING:pyngrok.process.ngrok:t=2023-08-12T10:59:50+0000 lvl=warn msg=\"ngrok config file found at legacy location, move to XDG location\" xdg_path=/root/.config/ngrok/ngrok.yml legacy_path=/root/.ngrok2/ngrok.yml\n"
          ]
        },
        {
          "output_type": "stream",
          "name": "stdout",
          "text": [
            " * ngrok tunnel \"https://062f-35-185-113-89.ngrok-free.app\" -> \"http://127.0.0.1:5000\"\n",
            " * Serving Flask app '__main__'\n",
            " * Debug mode: off\n"
          ]
        },
        {
          "output_type": "stream",
          "name": "stderr",
          "text": [
            "INFO:werkzeug:\u001b[31m\u001b[1mWARNING: This is a development server. Do not use it in a production deployment. Use a production WSGI server instead.\u001b[0m\n",
            " * Running on http://127.0.0.1:5000\n",
            "INFO:werkzeug:\u001b[33mPress CTRL+C to quit\u001b[0m\n",
            "INFO:werkzeug:127.0.0.1 - - [12/Aug/2023 11:00:07] \"POST / HTTP/1.1\" 200 -\n",
            "<ipython-input-6-96f5097cc38b>:8: LineBotSdkDeprecatedIn30: Call to deprecated method reply_message. (Use 'from linebot.v3.messaging import MessagingApi' and 'MessagingApi(...).reply_message(...)' instead. See https://github.com/line/line-bot-sdk-python/blob/master/README.rst for more details.) -- Deprecated since version 3.0.0.\n",
            "  line_bot_api.reply_message(\n",
            "INFO:werkzeug:127.0.0.1 - - [12/Aug/2023 11:00:09] \"POST / HTTP/1.1\" 200 -\n",
            "<ipython-input-60-243debe48216>:76: LineBotSdkDeprecatedIn30: Call to deprecated method reply_message. (Use 'from linebot.v3.messaging import MessagingApi' and 'MessagingApi(...).reply_message(...)' instead. See https://github.com/line/line-bot-sdk-python/blob/master/README.rst for more details.) -- Deprecated since version 3.0.0.\n",
            "  line_bot_api.reply_message(\n",
            "INFO:werkzeug:127.0.0.1 - - [12/Aug/2023 11:00:15] \"POST / HTTP/1.1\" 200 -\n",
            "INFO:werkzeug:127.0.0.1 - - [12/Aug/2023 11:00:21] \"POST / HTTP/1.1\" 200 -\n"
          ]
        }
      ],
      "source": [
        "# 主程序運行\n",
        "port = 5000\n",
        "# Open a ngrok tunnel to the HTTP server\n",
        "public_url = ngrok.connect(port).public_url\n",
        "print(\" * ngrok tunnel \\\"{}\\\" -> \\\"http://127.0.0.1:{}\\\"\".format(public_url, port))\n",
        "app.run()"
      ]
    }
  ],
  "metadata": {
    "colab": {
      "provenance": [],
      "authorship_tag": "ABX9TyN1eAvWxGYnA5dBYS4Kna6/",
      "include_colab_link": true
    },
    "kernelspec": {
      "display_name": "Python 3",
      "name": "python3"
    },
    "language_info": {
      "name": "python"
    }
  },
  "nbformat": 4,
  "nbformat_minor": 0
}